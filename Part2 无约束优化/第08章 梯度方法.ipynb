{
 "cells": [
  {
   "cell_type": "markdown",
   "metadata": {},
   "source": [
    "## 8.1 引言\n",
    "\n",
    "本章讨论的是一类在求取实值函数在$\\Bbb{R}^n$上极小点的方法。他们在优化的过程中，用到了梯度（可以简单的理解为求导）。故称梯度方法。\n",
    "\n",
    "**水平集：**\n",
    "\n",
    "水平集是指满足$f(x)=c$的所有$x$组成的集合。如下图所示。二元单值函数$f:\\Bbb{R}^2\\rightarrow\\Bbb{R}$水平集的概念。\n",
    "\n",
    "![](https://gitee.com/data2world/Photos/raw/2303ddb75e2b4d3d11afb96a8c332607aa26e9d7/%E8%AF%BB%E4%B9%A6%E7%AC%94%E8%AE%B0/Optimization/8-1.png)\n",
    "\n"
   ]
  },
  {
   "cell_type": "code",
   "execution_count": null,
   "metadata": {
    "collapsed": true
   },
   "outputs": [],
   "source": []
  },
  {
   "cell_type": "code",
   "execution_count": null,
   "metadata": {
    "collapsed": true
   },
   "outputs": [],
   "source": []
  },
  {
   "cell_type": "code",
   "execution_count": null,
   "metadata": {
    "collapsed": true
   },
   "outputs": [],
   "source": []
  },
  {
   "cell_type": "code",
   "execution_count": null,
   "metadata": {
    "collapsed": true
   },
   "outputs": [],
   "source": []
  },
  {
   "cell_type": "code",
   "execution_count": null,
   "metadata": {
    "collapsed": true
   },
   "outputs": [],
   "source": []
  },
  {
   "cell_type": "code",
   "execution_count": null,
   "metadata": {
    "collapsed": true
   },
   "outputs": [],
   "source": []
  },
  {
   "cell_type": "code",
   "execution_count": null,
   "metadata": {
    "collapsed": true
   },
   "outputs": [],
   "source": []
  },
  {
   "cell_type": "markdown",
   "metadata": {},
   "source": [
    "## 8.2 最速下降法\n",
    "最速下降法是梯度方法的一种具体实现，其理念为在每次迭代中选择合适的步长$\\alpha_k$。使得目标函数值能够得到最大程度的减小。从下图可以看出。从$x_{(0)}\\rightarrow x_{(1)}\\rightarrow x_{(2)}\\rightarrow x_{(3)}$\n",
    "![](https://gitee.com/data2world/Photos/raw/2303ddb75e2b4d3d11afb96a8c332607aa26e9d7/%E8%AF%BB%E4%B9%A6%E7%AC%94%E8%AE%B0/Optimization/8-2.png)\n"
   ]
  },
  {
   "cell_type": "markdown",
   "metadata": {
    "collapsed": true
   },
   "source": [
    "## 8.3 梯度方法性质分析"
   ]
  },
  {
   "cell_type": "markdown",
   "metadata": {},
   "source": [
    "## 8.4 习题"
   ]
  },
  {
   "cell_type": "code",
   "execution_count": null,
   "metadata": {
    "collapsed": true
   },
   "outputs": [],
   "source": []
  }
 ],
 "metadata": {
  "kernelspec": {
   "display_name": "Python 2",
   "language": "python",
   "name": "python2"
  },
  "language_info": {
   "codemirror_mode": {
    "name": "ipython",
    "version": 2
   },
   "file_extension": ".py",
   "mimetype": "text/x-python",
   "name": "python",
   "nbconvert_exporter": "python",
   "pygments_lexer": "ipython2",
   "version": "2.7.13"
  },
  "toc": {
   "nav_menu": {},
   "number_sections": false,
   "sideBar": true,
   "skip_h1_title": false,
   "toc_cell": false,
   "toc_position": {},
   "toc_section_display": "block",
   "toc_window_display": true
  }
 },
 "nbformat": 4,
 "nbformat_minor": 2
}
