{
 "cells": [
  {
   "cell_type": "markdown",
   "metadata": {},
   "source": [
    "本章将讨论目标函数为一元单值函数 $f$:$\\Bbb{R}\\rightarrow \\Bbb{R}$ 时的最小化优化问题(即一维问题)的迭代求解方法。\n",
    "\n",
    "**本章将介绍一下算法**\n",
    "- 黄金分割法(只使用目标函数值$f$)\n",
    "- 斐波那契数列方法(只使用目标雨数值$f$)\n",
    "- 二分法(只使用目标函数的一阶导数${f}'$)\n",
    "- 割线法(只使用目标函数的一阶导数${f}'$)\n",
    "- 牛顿法(同时使用目标函数一阶导数${f}'$和二阶导数${f}''$)"
   ]
  },
  {
   "cell_type": "markdown",
   "metadata": {},
   "source": [
    "### 1. 黄金分割法\n",
    "\n",
    "黄金分割法可用于求解一元单值函数$f$:$\\Bbb{R}\\rightarrow \\Bbb{R}$在闭区间$[a_0,b_0]$上的极小点。后面的斐波拉契数列方法和二分法也是解决这类问题。<br>\n",
    "**前提**<br>\n",
    "- 目标函数$f$在区间$[a_0,b_0]$是单峰的。即存在唯一的局部极小点。如**7.1图**所示\n",
    "![](https://gitee.com/data2world/OpimizationPhoto/raw/master/%E7%AC%AC7%E7%AB%A0/7-1.png)\n",
    "黄金分割法的思路是比较压缩区间。通过不断地压缩来寻找极小点，如**7.2图**所示\n",
    "![](https://gitee.com/data2world/OpimizationPhoto/raw/master/%E7%AC%AC7%E7%AB%A0/7-2-3.png)\n",
    "在上图中，我们有：\n",
    "\n",
    "$$\n",
    "a_1-a_0=b_0-b_1=\\rho(b_0-a_0)\n",
    "$$\n",
    "\n",
    "其中$\\rho<\\frac{1}{2}$\n",
    "\n",
    "$$\n",
    "f(n)= \\begin{cases} [a_0, b_1], & \\text {if $f(a_1)<f(b_1)$ } \\\\ [a_1, b_0], & \\text{if $f(a_1)\\geq f(b_1)$} \\end{cases} \n",
    "$$\n",
    "\n",
    "**一般性推导：**\n",
    "假设初始区间$[a_0,b_0]$的长度为1。由**7.4图**可知\n",
    "![](https://gitee.com/data2world/OpimizationPhoto/raw/master/%E7%AC%AC7%E7%AB%A0/7-4.png)\n",
    "\n",
    "- $b_0-a_0$的长度是1。\n",
    "- "
   ]
  },
  {
   "cell_type": "code",
   "execution_count": null,
   "metadata": {
    "collapsed": true
   },
   "outputs": [],
   "source": []
  },
  {
   "cell_type": "markdown",
   "metadata": {
    "collapsed": true
   },
   "source": [
    "## 3 斐波拉契数列法\n",
    "\n",
    "黄金分割法在压缩过程中，参数$\\rho$始终保持不变。而斐波拉契数列法允许参数不断调整。\n",
    "\n",
    "\n",
    "![](https://gitee.com/data2world/OpimizationPhoto/raw/master/%E7%AC%AC7%E7%AB%A0/7-5.png)"
   ]
  },
  {
   "cell_type": "code",
   "execution_count": null,
   "metadata": {
    "collapsed": true
   },
   "outputs": [],
   "source": []
  },
  {
   "cell_type": "markdown",
   "metadata": {},
   "source": [
    "## 4 二分法"
   ]
  },
  {
   "cell_type": "code",
   "execution_count": null,
   "metadata": {
    "collapsed": true
   },
   "outputs": [],
   "source": []
  },
  {
   "cell_type": "markdown",
   "metadata": {
    "collapsed": true
   },
   "source": [
    "## 5 牛顿法\n",
    "牛顿法的迭代公式如下：\n",
    "$$\n",
    "x^{(k+1)}=x^{(k)}-\\frac{{f}'(x^{(k)})}{{f}''(x^{(k)})}\n",
    "$$"
   ]
  },
  {
   "cell_type": "code",
   "execution_count": null,
   "metadata": {
    "collapsed": true
   },
   "outputs": [],
   "source": [
    "def f(x):\n",
    "    return 1/2.*"
   ]
  },
  {
   "cell_type": "code",
   "execution_count": 1,
   "metadata": {
    "code_folding": [],
    "collapsed": true
   },
   "outputs": [],
   "source": [
    "def dx(f, x):\n",
    "    return abs(0-f(x))\n",
    "\n",
    "def newtons_method(f, df, x0, e):\n",
    "    delta = dx(f, x0)\n",
    "    while delta > e:\n",
    "        x0 = x0 - f(x0)/df(x0)\n",
    "        delta = dx(f, x0)\n",
    "    print 'Root is at: ', x0\n",
    "    print 'f(x) at root is: ', f(x0)"
   ]
  },
  {
   "cell_type": "code",
   "execution_count": 13,
   "metadata": {},
   "outputs": [
    {
     "name": "stdout",
     "output_type": "stream",
     "text": [
      "<class 'sympy.core.add.Add'>\n"
     ]
    }
   ],
   "source": [
    "from __future__ import division\n",
    "from sympy import *\n",
    "x=Symbol(\"x\")\n",
    "print type(diff((1/2*x**2-sin(x)),x))\n",
    "fx = diff(diff((1/2*x**2-sin(x)),x), x)"
   ]
  },
  {
   "cell_type": "code",
   "execution_count": 15,
   "metadata": {},
   "outputs": [
    {
     "data": {
      "text/plain": [
       "sin(x) + 1.0"
      ]
     },
     "execution_count": 15,
     "metadata": {},
     "output_type": "execute_result"
    }
   ],
   "source": [
    "fx."
   ]
  },
  {
   "cell_type": "markdown",
   "metadata": {},
   "source": [
    "## 割线法\n"
   ]
  },
  {
   "cell_type": "markdown",
   "metadata": {},
   "source": [
    "## 划界法\n",
    "\n",
    "### 算法说明\n",
    "\n",
    "**前面的优化方法都有一个前提，就是需要一个初始的区间**， 而寻找这个初始区间的方法，我们叫做**划界法**。划界法的算法步骤如下：\n",
    "\n",
    "**输入：单峰函数；任选三个点满足：$x_0<x_1<x_2$<br>\n",
    "输出：初始区间**\n",
    "1. 计算$f(x_0), f(x_1), f(x_2)$\n",
    "2. 如果$f(x_1)<f(x_0)且f(x_1)<f(x_2)$，那么停止计算，极小点就在这个初始区间内 \n",
    "3. 如果$f(x_0)>f(x_1)>f(x_2)$，则选择一个点$x_3>x_2$,检查$f(x_3)>f(x_2)$是否成立，如果成立，极小点就是在区间$[x_1, x_3]$中。否则，重复这个过程直到成立。**新点的选择与上一个点最好成倍增的关系，如下图所示**\n",
    "\n",
    "![](https://gitee.com/data2world/OpimizationPhoto/raw/master/%E7%AC%AC7%E7%AB%A0/7-11.png)\n",
    "\n",
    "### 算法实现"
   ]
  },
  {
   "cell_type": "code",
   "execution_count": 36,
   "metadata": {
    "collapsed": true
   },
   "outputs": [],
   "source": [
    "def Bracketing(func, x0, x1, x2):\n",
    "    rho = 1.68\n",
    "    iter_num = 1\n",
    "    if func(x1)<func(x0) and func(x1)<func(x2):\n",
    "        if iter_num == 1:\n",
    "            return x0, x2\n",
    "        if right:\n",
    "            return x0, x1\n",
    "        else:\n",
    "            return x1, x2\n",
    "    elif func(x0)<func(x1)<func(x2):\n",
    "        iter_num += 1 \n",
    "        x0 = x0 - 1.68*(x1 - x0)\n",
    "        right = True\n",
    "        Bracketing(func, x0, x1, x2)\n",
    "    else:\n",
    "        iter_num += 1 \n",
    "        x2 = x2 + 1.68*(x2-x1)\n",
    "        right = False\n",
    "        Bracketing(func, x0, x1, x2)"
   ]
  },
  {
   "cell_type": "code",
   "execution_count": 37,
   "metadata": {
    "collapsed": true
   },
   "outputs": [],
   "source": [
    "def func(x):\n",
    "    return 2*x*x"
   ]
  },
  {
   "cell_type": "code",
   "execution_count": 38,
   "metadata": {},
   "outputs": [
    {
     "data": {
      "text/plain": [
       "4.5"
      ]
     },
     "execution_count": 38,
     "metadata": {},
     "output_type": "execute_result"
    }
   ],
   "source": [
    "func(-1.5)"
   ]
  },
  {
   "cell_type": "code",
   "execution_count": 39,
   "metadata": {},
   "outputs": [
    {
     "name": "stdout",
     "output_type": "stream",
     "text": [
      "None\n"
     ]
    }
   ],
   "source": [
    "print Bracketing(func, 1, 2, 3)"
   ]
  },
  {
   "cell_type": "markdown",
   "metadata": {},
   "source": [
    "## 多维优化问题中的一维搜索\n",
    "接下来的几章会讨论一维搜索算法在多维优化问题中的应用。\n",
    "$$\n",
    "x^{k+1} = x^k + \\alpha_{k} d^k\n",
    "$$\n",
    "$x^{k+1}$是迭代计算后的值，$x^k$是上一次计算得到的值，$\\alpha_{k}$是学习率，$d^k$是梯度方向。如下图所示\n",
    "![](https://gitee.com/data2world/OpimizationPhoto/raw/master/%E7%AC%AC7%E7%AB%A0/7-12.png)\n",
    "\n",
    "那么使下面的函数值达到最小:\n",
    "$$\n",
    "\\phi(\\alpha)=f(x^k +\\alpha \\mathbf{d}^k)\n",
    "$$\n",
    "本章讨论的所有方法都可以求$\\phi(\\alpha)$的极小点。利用链式求导法则有:\n",
    "$$\n",
    "\\phi'(\\alpha)=d^{(k)T}f'(x^{(k)}+\\alpha d^{(k)})\n",
    "$$\n",
    "\n",
    "### 一维搜索方法的一些问题\n",
    "- 精确地求解极小点可能需要非常大的计算量\n",
    "- 在工业界中大多是多维优化的问题，需要将计算资源配置到多维优化的问题中\n",
    "- 所以我们需要设计合适的停止条件，第一个基本的理念是保证步长$\\alpha_k$不要太小或不要太大\n",
    "\n",
    "### Armijo条件\n",
    "- 3个常数：$\\epsilon \\in (0,1)$, $\\gamma > 1$和$\\eta \\in (\\epsilon, 1)$\n",
    "\n",
    "保证$\\alpha_k$不会太大\n",
    "$$\n",
    "\\phi(\\alpha_k) \\leq \\phi_k(0)+\\epsilon \\alpha_k \\phi'_k(0)\n",
    "$$\n",
    "\n",
    "保证$\\alpha_k$不会太小\n",
    "\n",
    "$$\n",
    "\\phi(\\gamma \\alpha_k) \\geq \\phi_k(0)+\\epsilon \\gamma \\alpha_k \\phi'_k(0)\n",
    "$$\n",
    "\n",
    "\n",
    "### Goldstein条件\n",
    "**将Armijo条件中的第二个不等式调整为**\n",
    "\n",
    "$$\n",
    "\\phi_k(\\alpha_k) \\geq \\phi_k(0)+\\epsilon \\alpha_k \\phi'_k(0)\n",
    "$$\n",
    "\n",
    "### Wolfe条件\n",
    "Wolfe条件只包括函数$\\phi_k$的一阶导数\n",
    "\n",
    "$$\n",
    "\\phi'_k(\\alpha_k) \\geq \\epsilon \\phi'_k\n",
    "$$\n",
    "\n",
    "Annijo划界法是一种简单实用的(非精确)一维搜索方法。一开始先为步长向选定一个备选值。如果能够满足预定的停止条件(通常是Annijo条件中的第一个不等式) ，则停止搜索将其作为步长;否则，在该备选值上乘以一个缩小系数$\\tau \\in (0, 1)$，通常$\\tau = 0.5$"
   ]
  }
 ],
 "metadata": {
  "_draft": {
   "nbviewer_url": "https://gist.github.com/dc4b89597a1275caa4caa04e2dc50adf"
  },
  "gist": {
   "data": {
    "description": "Reading/Optimization/Part2 无约束优化/第7章 一维搜索方法.ipynb",
    "public": true
   },
   "id": "dc4b89597a1275caa4caa04e2dc50adf"
  },
  "kernelspec": {
   "display_name": "Python 2",
   "language": "python",
   "name": "python2"
  },
  "language_info": {
   "codemirror_mode": {
    "name": "ipython",
    "version": 2
   },
   "file_extension": ".py",
   "mimetype": "text/x-python",
   "name": "python",
   "nbconvert_exporter": "python",
   "pygments_lexer": "ipython2",
   "version": "2.7.13"
  },
  "toc": {
   "nav_menu": {},
   "number_sections": false,
   "sideBar": true,
   "skip_h1_title": false,
   "toc_cell": false,
   "toc_position": {
    "height": "655px",
    "left": "0px",
    "right": "638px",
    "top": "107px",
    "width": "212px"
   },
   "toc_section_display": "block",
   "toc_window_display": true
  }
 },
 "nbformat": 4,
 "nbformat_minor": 2
}
