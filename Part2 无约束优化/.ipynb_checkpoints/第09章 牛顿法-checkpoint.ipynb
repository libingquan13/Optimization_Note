{
 "cells": [
  {
   "cell_type": "markdown",
   "metadata": {},
   "source": [
    "### 9.0 算法步骤\n",
    "**输入：**目标函数$f(x)$,梯度$g(x)=\\nabla{f(x)}$,海塞矩阵$H(x)$, 精度要求$\\epsilon$;<br>\n",
    "**输出：**$f(x)$的极小点$x^*$<br>\n",
    "\n",
    "1. 选取初始点$x^{(0)}$, 置$k=0$\n",
    "2. 计算$g_k=g(x^{(k)})$\n",
    "3. 若\\left \\| g_k \\right \\|<\\epsilon, 则停止计算， 得到近似解$x^*=x^{(k)}$\n",
    "4. 计算$H_k = H(x^{(k)})$, 并求$p_k$\n",
    "$$\n",
    "H_kp_k = -g_k\n",
    "$$\n",
    "5. 置x^{(k+1)}=x^{(k)}+p_k\n",
    "6. 置k=k+1, 转到步骤2"
   ]
  },
  {
   "cell_type": "markdown",
   "metadata": {},
   "source": [
    "### 9.1 引言\n",
    "\n",
    "**牛顿法使用了目标函数的一阶导数和二阶导数来确定搜索方向**，牛顿法有时也称**牛顿-拉弗森法**\n",
    "\n",
    "\n",
    "**例9.1 利用牛顿法求解Powell函数的极小点：**\n",
    "$$\n",
    "f(x_1, x_2, x_3, x_4) = (x_1+10x_2)^2+5(x_3+x_4)^2+(x_2-2x_3)^4+10(x_1-x_4)^4\n",
    "$$\n"
   ]
  },
  {
   "cell_type": "code",
   "execution_count": null,
   "metadata": {
    "collapsed": true
   },
   "outputs": [],
   "source": []
  },
  {
   "cell_type": "code",
   "execution_count": null,
   "metadata": {
    "collapsed": true
   },
   "outputs": [],
   "source": []
  },
  {
   "cell_type": "markdown",
   "metadata": {},
   "source": [
    "### 9.2 牛顿法性质分析"
   ]
  },
  {
   "cell_type": "markdown",
   "metadata": {},
   "source": [
    "### 9.3 Levenberg-Marquardt修正"
   ]
  },
  {
   "cell_type": "markdown",
   "metadata": {},
   "source": [
    "### 9.4 牛顿法在非线性最小二乘问题中的应用"
   ]
  },
  {
   "cell_type": "markdown",
   "metadata": {},
   "source": [
    "### 习题"
   ]
  }
 ],
 "metadata": {
  "kernelspec": {
   "display_name": "Python 2",
   "language": "python",
   "name": "python2"
  },
  "language_info": {
   "codemirror_mode": {
    "name": "ipython",
    "version": 2
   },
   "file_extension": ".py",
   "mimetype": "text/x-python",
   "name": "python",
   "nbconvert_exporter": "python",
   "pygments_lexer": "ipython2",
   "version": "2.7.13"
  },
  "toc": {
   "nav_menu": {},
   "number_sections": false,
   "sideBar": true,
   "skip_h1_title": false,
   "toc_cell": false,
   "toc_position": {},
   "toc_section_display": "block",
   "toc_window_display": true
  }
 },
 "nbformat": 4,
 "nbformat_minor": 2
}
