{
 "cells": [
  {
   "cell_type": "markdown",
   "metadata": {},
   "source": [
    "### 9.0 算法步骤\n",
    "**输入：**目标函数$f(x)$,梯度$g(x)=\\nabla{f(x)}$,海塞矩阵$H(x)$, 精度要求$\\epsilon$;<br>\n",
    "**输出：**$f(x)$的极小点$x^*$<br>\n",
    "\n",
    "1. 选取初始点$x^{(0)}$, 置$k=0$\n",
    "2. 计算$g_k=g(x^{(k)})$\n",
    "3. 若$\\left \\| g_k \\right \\|<\\epsilon$, 则停止计算， 得到近似解$x^*=x^{(k)}$\n",
    "4. 计算$H_k = H(x^{(k)})$, 并求$p_k$\n",
    "$$\n",
    "H_kp_k = -g_k\n",
    "$$\n",
    "5. 置x^{(k+1)}=x^{(k)}+p_k\n",
    "6. 置k=k+1, 转到步骤2"
   ]
  },
  {
   "cell_type": "markdown",
   "metadata": {},
   "source": [
    "### 9.1 引言\n",
    "\n",
    "**牛顿法使用了目标函数的一阶导数和二阶导数来确定搜索方向**，牛顿法有时也称**牛顿-拉弗森法**\n",
    "\n",
    "\n",
    "**例9.1 利用牛顿法求解Powell函数的极小点：**\n",
    "$$\n",
    "f(x_1, x_2, x_3, x_4) = (x_1+10x_2)^2+5(x_3+x_4)^2+(x_2-2x_3)^4+10(x_1-x_4)^4\n",
    "$$\n"
   ]
  },
  {
   "cell_type": "code",
   "execution_count": 4,
   "metadata": {
    "collapsed": true
   },
   "outputs": [],
   "source": [
    "import numpy as np"
   ]
  },
  {
   "cell_type": "code",
   "execution_count": null,
   "metadata": {
    "collapsed": true
   },
   "outputs": [],
   "source": [
    "def fx_min(x1, x2, x3, x4):\n",
    "    fx = np.power((x1+10*x2),2)+5*np.power((x3-x4), 2)\n",
    "    +np.power((x2-2*x3), 4)+10*np.power((x1-x4), 4)\n",
    "    x0=[3, -1, 0, 1]\n",
    "    "
   ]
  },
  {
   "cell_type": "code",
   "execution_count": 9,
   "metadata": {
    "collapsed": true
   },
   "outputs": [],
   "source": [
    "x = np.array([1, 2, 4, 7, 11, 16], dtype=np.float)"
   ]
  },
  {
   "cell_type": "code",
   "execution_count": 11,
   "metadata": {},
   "outputs": [
    {
     "data": {
      "text/plain": [
       "array([  1.,   2.,   4.,   7.,  11.,  16.])"
      ]
     },
     "execution_count": 11,
     "metadata": {},
     "output_type": "execute_result"
    }
   ],
   "source": [
    "x"
   ]
  },
  {
   "cell_type": "code",
   "execution_count": 10,
   "metadata": {},
   "outputs": [
    {
     "data": {
      "text/plain": [
       "array([ 1. ,  1.5,  2.5,  3.5,  4.5,  5. ])"
      ]
     },
     "execution_count": 10,
     "metadata": {},
     "output_type": "execute_result"
    }
   ],
   "source": [
    "np.gradient(x)"
   ]
  },
  {
   "cell_type": "code",
   "execution_count": 12,
   "metadata": {},
   "outputs": [
    {
     "data": {
      "text/plain": [
       "-2*x/(x**2 + 1)**2"
      ]
     },
     "execution_count": 12,
     "metadata": {},
     "output_type": "execute_result"
    }
   ],
   "source": [
    "from sympy import *\n",
    "x=Symbol(\"x\")\n",
    "diff(1/(1+x**2),x)"
   ]
  },
  {
   "cell_type": "code",
   "execution_count": null,
   "metadata": {
    "collapsed": true
   },
   "outputs": [],
   "source": []
  },
  {
   "cell_type": "markdown",
   "metadata": {},
   "source": [
    "### 9.2 牛顿法性质分析\n",
    "\n",
    "$$\n",
    "\\begin{align} \\quad \\mathcal H (x_1, x_2) = \\begin{bmatrix} 2x_2 & 2x_1 + 3x_2^2 \\\\ 2x_1 + 3x_2^2 & 6x_1x_2 \\end{bmatrix} \\end{align}\n",
    "$$"
   ]
  },
  {
   "cell_type": "markdown",
   "metadata": {},
   "source": [
    "### 9.3 Levenberg-Marquardt修正"
   ]
  },
  {
   "cell_type": "markdown",
   "metadata": {},
   "source": [
    "## 9.4 牛顿法在非线性最小二乘问题中的应用\n",
    "本小节讨论非线性最小二乘问题，优化问题模型如下：\n",
    "$$\n",
    "minimize \\sum^m_{i=1}(r_i(\\vec{x}))^2\n",
    "$$\n",
    "### 例题9.2 \n",
    "对于某一过程，在m个时刻开展m次测量，得到一组测量值。如下图所示（**m=21**）\n",
    "![](https://gitee.com/data2world/OpimizationPhoto/raw/master/%E7%AC%AC9%E7%AB%A0/9.2.png)\n",
    "\n",
    "我们构造一个正弦函数来拟合这些数据\n",
    "$$\n",
    "y=A\\mathrm{sin}(\\omega t+\\phi)\n",
    "$$\n",
    "其中参数为:$A、\\omega、\\phi$。很明显地，我们需要**学习**这些值来更好地拟合数据。为了解决这个问题，构造目标函数如下：\n",
    "$$\n",
    "\\sum^m_{i=1}(y_i-A\\mathrm{sin}(\\omega t_i+\\phi))^2 \\\\\\\n",
    "\\vec{x}=[A, \\omega, \\phi]^T\n",
    "$$\n",
    "\n",
    "那么得到非线性的最小二乘问题：\n",
    "$$\n",
    "r_i(\\vec{x})=y_i-A\\mathrm{sin}(\\omega t_i+\\phi)\n",
    "$$\n",
    "\n",
    "我们知道目标函数是$\\sum^m_{i=1}(r_i(\\vec{x}))^2$，那么我们将目标函数写成矩阵的形式$f(\\vec{x})=\\vec{r}(x)^T\\vec{r}(x)$，其中$\\vec{r}=[r_1,...,r_m]^T$。**下面，我们使用牛顿法来解这个优化问题**\n",
    "\n"
   ]
  },
  {
   "cell_type": "code",
   "execution_count": null,
   "metadata": {
    "collapsed": true
   },
   "outputs": [],
   "source": []
  }
 ],
 "metadata": {
  "kernelspec": {
   "display_name": "Python 2",
   "language": "python",
   "name": "python2"
  },
  "language_info": {
   "codemirror_mode": {
    "name": "ipython",
    "version": 2
   },
   "file_extension": ".py",
   "mimetype": "text/x-python",
   "name": "python",
   "nbconvert_exporter": "python",
   "pygments_lexer": "ipython2",
   "version": "2.7.13"
  },
  "toc": {
   "nav_menu": {},
   "number_sections": false,
   "sideBar": true,
   "skip_h1_title": false,
   "toc_cell": false,
   "toc_position": {},
   "toc_section_display": "block",
   "toc_window_display": true
  }
 },
 "nbformat": 4,
 "nbformat_minor": 2
}
