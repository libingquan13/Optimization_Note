{
 "cells": [
  {
   "cell_type": "markdown",
   "metadata": {},
   "source": [
    "## 2.1 向量与矩阵\n",
    "\n",
    "**线性相关与线性无关**：<br>\n",
    "如果方程\n",
    "\n",
    "$$\n",
    "a_1\\vec{v_1}+a_2\\vec{v_2}+\\cdots+a_k\\vec{v_k}=\\vec{0}\n",
    "$$\n",
    "\n",
    "中的所有系数$a_i(i=1,2,...,k)$都等于零，那么称向量集$\\{\\vec{v_1},\\vec{v_2},...,\\vec{v_k}\\}$是线性无关的。如果向量集$\\{\\vec{v_1},\\vec{v_2},...,\\vec{v_k}\\}$不是线性无关，那么称其为线性相关。\n",
    "\n",
    "**线性组合**<br>\n",
    "给定向量$\\vec{v}$,如果存在标量$a_1,...,a_k$，使得：\n",
    "\n",
    "$$\n",
    "\\vec{v}=a_1\\vec{v_1}+a_2\\vec{v_2}+\\cdots+a_k\\vec{v_k}\n",
    "$$\n",
    "\n",
    "那么称向量$\\vec{v}$为$\\{\\vec{v_1},\\vec{v_2},...,\\vec{v_k}\\}$的线性组合。"
   ]
  },
  {
   "cell_type": "markdown",
   "metadata": {},
   "source": [
    "**命题2.1**<br> \n",
    "\n",
    "向量集$\\{\\vec{v_1},\\vec{v_2},...,\\vec{v_k}\\}$是线性相关的，当且仅当集合中的一个向量可以表示为其他向量的线性组合。"
   ]
  },
  {
   "cell_type": "markdown",
   "metadata": {},
   "source": [
    "**命题2.2**<br> \n",
    "\n",
    "如果$\\{\\vec{v_1},\\vec{v_2},...,\\vec{v_k}\\}$是$V$的一组基，那么$V$中的任意向量$\\vec{v}$可以唯一地表示为\n",
    "\n",
    "$$\n",
    "\\vec{v}=a_1\\vec{v_1}+a_2\\vec{v_2}+\\cdots+a_k\\vec{v_k}\n",
    "$$\n",
    "\n",
    "其中，$\\alpha_i \\in \\Bbb{R}, i=1, 2, ..., k$。"
   ]
  },
  {
   "cell_type": "markdown",
   "metadata": {},
   "source": [
    "---\n",
    "## 2.2 矩阵的秩\n"
   ]
  },
  {
   "cell_type": "code",
   "execution_count": null,
   "metadata": {
    "collapsed": true
   },
   "outputs": [],
   "source": []
  }
 ],
 "metadata": {
  "kernelspec": {
   "display_name": "Python 3",
   "language": "python",
   "name": "python3"
  },
  "language_info": {
   "codemirror_mode": {
    "name": "ipython",
    "version": 3
   },
   "file_extension": ".py",
   "mimetype": "text/x-python",
   "name": "python",
   "nbconvert_exporter": "python",
   "pygments_lexer": "ipython3",
   "version": "3.6.3"
  }
 },
 "nbformat": 4,
 "nbformat_minor": 2
}
