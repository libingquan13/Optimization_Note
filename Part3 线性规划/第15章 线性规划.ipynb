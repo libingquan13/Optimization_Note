{
 "cells": [
  {
   "cell_type": "markdown",
   "metadata": {},
   "source": [
    "## 线性规划简史\n",
    "### 基本的概念\n",
    "- **可行点**\n",
    "\n",
    "任何满足约束条件的点称为可行点。\n",
    "- **最优可行点**\n",
    "\n",
    "线性规划的求解方法能够在众多的可行点中找出最优的可行点。\n",
    "- **基本可行解**\n",
    "\n",
    "线性规划的可行点通常有无穷多个，但是在有限数量的特殊可行点集合中进行搜索，就可以确定线性规划的解，这些点称为基本可行解。\n",
    "- **穷举法**\n",
    "\n",
    "通过比较基本可行解对应的目标函数值，就可以找到一个使目标函数取得极大值或极小值的解，即最优解，这种方法称为穷举法。但是效率太低。\n",
    "- **1947年丹齐格提出单纯形法**\n",
    "\n",
    "1947 年，丹齐格提出了一种求解线性规划问题的新方法，即今天所称的单纯形法。单纯形法既高效又简洁，被誉为20世纪对科学发展和工程实践影响最大的十种算法之一"
   ]
  },
  {
   "cell_type": "markdown",
   "metadata": {},
   "source": [
    "## 线性规划的简单例子\n"
   ]
  }
 ],
 "metadata": {
  "kernelspec": {
   "display_name": "Python 2",
   "language": "python",
   "name": "python2"
  },
  "language_info": {
   "codemirror_mode": {
    "name": "ipython",
    "version": 2
   },
   "file_extension": ".py",
   "mimetype": "text/x-python",
   "name": "python",
   "nbconvert_exporter": "python",
   "pygments_lexer": "ipython2",
   "version": "2.7.13"
  },
  "toc": {
   "nav_menu": {},
   "number_sections": true,
   "sideBar": true,
   "skip_h1_title": false,
   "toc_cell": false,
   "toc_position": {},
   "toc_section_display": "block",
   "toc_window_display": false
  }
 },
 "nbformat": 4,
 "nbformat_minor": 2
}
